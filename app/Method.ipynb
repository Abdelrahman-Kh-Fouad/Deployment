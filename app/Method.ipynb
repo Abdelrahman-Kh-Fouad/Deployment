{
 "cells": [
  {
   "cell_type": "code",
   "execution_count": 45,
   "id": "bc2c849f",
   "metadata": {},
   "outputs": [],
   "source": [
    "from tensorflow import keras\n",
    "import tensorflow as tf\n",
    "import numpy as np"
   ]
  },
  {
   "cell_type": "code",
   "execution_count": 55,
   "id": "3f6fa5c7",
   "metadata": {},
   "outputs": [],
   "source": [
    "def build_test_tfrecord(img,test_tfrecord):  # Generate TFRecord of test set\n",
    "    with tf.io.TFRecordWriter(test_tfrecord)as writer:\n",
    "            image = open(img, 'rb').read()\n",
    "\n",
    "            feature = {\n",
    "                'image': tf.train.Feature(bytes_list=tf.train.BytesList(value=[image])),\n",
    "            }\n",
    "\n",
    "            example = tf.train.Example(features=tf.train.Features(feature=feature))\n",
    "            writer.write(example.SerializeToString())"
   ]
  },
  {
   "cell_type": "code",
   "execution_count": 56,
   "id": "048cbc49",
   "metadata": {},
   "outputs": [],
   "source": [
    "def _parse_example(example_string):\n",
    "    feature_description = {\n",
    "        'image': tf.io.FixedLenFeature([], tf.string),\n",
    "    }\n",
    "\n",
    "    feature_dict = tf.io.parse_single_example(example_string, feature_description)\n",
    "    feature_dict['image'] = tf.io.decode_png(feature_dict['image'], channels=3)\n",
    "    feature_dict['image'] = tf.image.resize(feature_dict['image'], [224, 224]) / 255.0\n",
    "    return feature_dict['image']"
   ]
  },
  {
   "cell_type": "code",
   "execution_count": 57,
   "id": "b47ebf13",
   "metadata": {},
   "outputs": [],
   "source": [
    "def get_test_dataset(test_tfrecord):\n",
    "    raw_test_dataset = tf.data.TFRecordDataset(test_tfrecord)\n",
    "    test_dataset = raw_test_dataset.map(_parse_example)\n",
    "\n",
    "    return test_dataset"
   ]
  },
  {
   "cell_type": "code",
   "execution_count": 58,
   "id": "ace432e8",
   "metadata": {},
   "outputs": [],
   "source": [
    "def data_Preprocessing(test_dataset):\n",
    "\n",
    "    test_dataset = test_dataset.batch(32)\n",
    "    test_dataset = test_dataset.prefetch(tf.data.experimental.AUTOTUNE)\n",
    "\n",
    "    return test_dataset"
   ]
  },
  {
   "cell_type": "code",
   "execution_count": 59,
   "id": "af35b5f7",
   "metadata": {},
   "outputs": [],
   "source": [
    "def test(test_dataset):\n",
    "\n",
    "    mod=keras.models.load_model('Acne and Rosacea/Layer2-0/Layer2-0skindiseases.h5')\n",
    "    predIdxs = mod.predict(test_dataset)\n",
    "    predIdxs = np.argmax(predIdxs, axis=1) \n",
    "    return predIdxs"
   ]
  },
  {
   "cell_type": "code",
   "execution_count": 60,
   "id": "e6a677e8",
   "metadata": {},
   "outputs": [],
   "source": [
    "def simulation(img_path):\n",
    "    test_tfrecord = 'test.tfrecords'\n",
    "    build_test_tfrecord(img_path, test_tfrecord)\n",
    "    test_dataset = get_test_dataset(test_tfrecord)\n",
    "    test_dataset = data_Preprocessing(test_dataset) \n",
    "    test(test_dataset)\n",
    "    return test(test_dataset) "
   ]
  },
  {
   "cell_type": "code",
   "execution_count": 61,
   "id": "e5c302c4",
   "metadata": {},
   "outputs": [
    {
     "name": "stdout",
     "output_type": "stream",
     "text": [
      "imge Pathtest/R (1).jpeg\n"
     ]
    },
    {
     "data": {
      "text/plain": [
       "array([1], dtype=int64)"
      ]
     },
     "execution_count": 61,
     "metadata": {},
     "output_type": "execute_result"
    }
   ],
   "source": [
    "imgPath = input('imge Path')\n",
    "simulation(imgPath)"
   ]
  },
  {
   "cell_type": "code",
   "execution_count": null,
   "id": "80073c7a",
   "metadata": {},
   "outputs": [],
   "source": []
  }
 ],
 "metadata": {
  "kernelspec": {
   "display_name": "Python 3",
   "language": "python",
   "name": "python3"
  },
  "language_info": {
   "codemirror_mode": {
    "name": "ipython",
    "version": 3
   },
   "file_extension": ".py",
   "mimetype": "text/x-python",
   "name": "python",
   "nbconvert_exporter": "python",
   "pygments_lexer": "ipython3",
   "version": "3.8.8"
  }
 },
 "nbformat": 4,
 "nbformat_minor": 5
}
